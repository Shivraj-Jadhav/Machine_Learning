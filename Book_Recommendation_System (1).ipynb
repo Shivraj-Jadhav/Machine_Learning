{
  "nbformat": 4,
  "nbformat_minor": 0,
  "metadata": {
    "colab": {
      "provenance": []
    },
    "kernelspec": {
      "name": "python3",
      "display_name": "Python 3"
    },
    "language_info": {
      "name": "python"
    }
  },
  "cells": [
    {
      "cell_type": "code",
      "execution_count": 1,
      "metadata": {
        "id": "nO7IXeHQ_h5u"
      },
      "outputs": [],
      "source": [
        "import numpy as np\n",
        "import pandas as pd\n",
        "import matplotlib.pyplot as plt\n",
        "import seaborn as sns"
      ]
    },
    {
      "cell_type": "code",
      "source": [
        "books = pd.read_csv('Books.csv')\n",
        "users = pd.read_csv('Users.csv')\n",
        "ratings = pd.read_csv('Ratings.csv')"
      ],
      "metadata": {
        "id": "aufJAXFS_uY1"
      },
      "execution_count": null,
      "outputs": []
    },
    {
      "cell_type": "code",
      "source": [
        "books.head()"
      ],
      "metadata": {
        "id": "vklmHADdBoAy"
      },
      "execution_count": null,
      "outputs": []
    },
    {
      "cell_type": "code",
      "source": [
        "users.head()"
      ],
      "metadata": {
        "id": "05XY_t94Bn7v"
      },
      "execution_count": null,
      "outputs": []
    },
    {
      "cell_type": "code",
      "source": [
        "ratings.head()"
      ],
      "metadata": {
        "id": "ihW5SSCoBn1u"
      },
      "execution_count": null,
      "outputs": []
    },
    {
      "cell_type": "code",
      "source": [
        "ratings.describe()"
      ],
      "metadata": {
        "id": "4bNXNMt4NQ3U"
      },
      "execution_count": null,
      "outputs": []
    },
    {
      "cell_type": "code",
      "source": [
        "print(books.shape)"
      ],
      "metadata": {
        "id": "-AQxz_eoA0PZ"
      },
      "execution_count": null,
      "outputs": []
    },
    {
      "cell_type": "code",
      "source": [
        "print(users.shape)"
      ],
      "metadata": {
        "id": "cNX2Nn5hA73y"
      },
      "execution_count": null,
      "outputs": []
    },
    {
      "cell_type": "code",
      "source": [
        "print(ratings.shape)"
      ],
      "metadata": {
        "id": "-LVLgts_A7kA"
      },
      "execution_count": null,
      "outputs": []
    },
    {
      "cell_type": "code",
      "source": [
        "books.isnull().sum()"
      ],
      "metadata": {
        "id": "BPJV5_nKBBnD"
      },
      "execution_count": null,
      "outputs": []
    },
    {
      "cell_type": "code",
      "source": [
        "users.isnull().sum()"
      ],
      "metadata": {
        "id": "PQ5vcH19BBjD"
      },
      "execution_count": null,
      "outputs": []
    },
    {
      "cell_type": "code",
      "source": [
        "ratings.isnull().sum()"
      ],
      "metadata": {
        "id": "vGSIQL5yBBfR"
      },
      "execution_count": null,
      "outputs": []
    },
    {
      "cell_type": "code",
      "source": [
        "books.duplicated().sum()"
      ],
      "metadata": {
        "id": "1tAYLBXdBBcC"
      },
      "execution_count": null,
      "outputs": []
    },
    {
      "cell_type": "code",
      "source": [
        "ratings.duplicated().sum()"
      ],
      "metadata": {
        "id": "gC0DRcduBBYk"
      },
      "execution_count": null,
      "outputs": []
    },
    {
      "cell_type": "code",
      "source": [
        "users.duplicated().sum()"
      ],
      "metadata": {
        "id": "Jx5c09YWBBMY"
      },
      "execution_count": null,
      "outputs": []
    },
    {
      "cell_type": "markdown",
      "source": [
        "#Popularity Based Recommendation System"
      ],
      "metadata": {
        "id": "4ddcRy7GEfWx"
      }
    },
    {
      "cell_type": "code",
      "source": [
        "ratings_with_books = ratings.merge(books, on='ISBN')"
      ],
      "metadata": {
        "id": "dN-GkRuIEeUY"
      },
      "execution_count": 78,
      "outputs": []
    },
    {
      "cell_type": "code",
      "source": [
        "ratings_with_books.head()"
      ],
      "metadata": {
        "id": "iS7C_43sFdfn"
      },
      "execution_count": null,
      "outputs": []
    },
    {
      "cell_type": "code",
      "source": [
        "num_of_rating_df = ratings_with_books.groupby('Book-Title').count()['Book-Rating'].reset_index()\n",
        "num_of_rating_df.rename(columns={'Book-Rating' : 'num_ratings'}, inplace = True)\n",
        "num_of_rating_df"
      ],
      "metadata": {
        "id": "1n9CI0sVFgt4"
      },
      "execution_count": null,
      "outputs": []
    },
    {
      "cell_type": "code",
      "source": [
        "avg_rating_df = ratings_with_books.groupby('Book-Title').mean()['Book-Rating'].reset_index()\n",
        "avg_rating_df.rename(columns={'Book-Rating' : 'avg_ratings'}, inplace = True)\n",
        "avg_rating_df"
      ],
      "metadata": {
        "id": "vEJm1rmZFzET"
      },
      "execution_count": null,
      "outputs": []
    },
    {
      "cell_type": "code",
      "source": [
        "popularity_df = num_of_rating_df.merge(avg_rating_df, on='Book-Title')\n",
        "popularity_df"
      ],
      "metadata": {
        "id": "QAeLqLjoG_UA"
      },
      "execution_count": null,
      "outputs": []
    },
    {
      "cell_type": "code",
      "source": [
        "popularity_df.describe()\n"
      ],
      "metadata": {
        "id": "IyFIt_sQHSAU"
      },
      "execution_count": null,
      "outputs": []
    },
    {
      "cell_type": "code",
      "source": [
        "sns.set()\n",
        "plt.scatter(popularity_df['num_ratings'], popularity_df['avg_ratings'], s=50, c='blue')\n",
        "plt.title('Popularity')\n",
        "plt.xlabel('num_ratings')\n",
        "plt.ylabel('avg_ratings')\n",
        "plt.show"
      ],
      "metadata": {
        "id": "Ud9k4pVUHgun"
      },
      "execution_count": null,
      "outputs": []
    },
    {
      "cell_type": "code",
      "source": [
        "popularity_df = popularity_df[popularity_df['num_ratings']>=250].sort_values('avg_ratings', ascending=False)"
      ],
      "metadata": {
        "id": "o2C4uhqxIzsE"
      },
      "execution_count": 85,
      "outputs": []
    },
    {
      "cell_type": "code",
      "source": [
        "popularity_df"
      ],
      "metadata": {
        "id": "Z3UJA0WFJepp"
      },
      "execution_count": null,
      "outputs": []
    },
    {
      "cell_type": "code",
      "source": [
        "popular_df = popularity_df.head(50)\n",
        "popular_df = popular_df.merge(books,on='Book-Title').drop_duplicates('Book-Title')[['Book-Title','Book-Author','Image-URL-M','num_ratings','avg_ratings']]"
      ],
      "metadata": {
        "id": "Xz3o-8EbKJrL"
      },
      "execution_count": 87,
      "outputs": []
    },
    {
      "cell_type": "code",
      "source": [
        "popular_df"
      ],
      "metadata": {
        "id": "6ekknNM0KcWz"
      },
      "execution_count": null,
      "outputs": []
    },
    {
      "cell_type": "markdown",
      "source": [
        "#Collaborative Filtering Based Recommender System"
      ],
      "metadata": {
        "id": "P_DyaIwZLFAX"
      }
    },
    {
      "cell_type": "code",
      "source": [
        "ratings_by_usersid_df = ratings.groupby('User-ID').count().reset_index()"
      ],
      "metadata": {
        "id": "AkmI3qrbMq5d"
      },
      "execution_count": 89,
      "outputs": []
    },
    {
      "cell_type": "code",
      "source": [
        "ratings_by_usersid_df[ratings_by_usersid_df['Book-Rating']<=2000].max()"
      ],
      "metadata": {
        "id": "A6otG1mFOZds"
      },
      "execution_count": null,
      "outputs": []
    },
    {
      "cell_type": "code",
      "source": [
        "ratings_by_usersid_df=ratings_by_usersid_df[ratings_by_usersid_df['Book-Rating']<=2000]"
      ],
      "metadata": {
        "id": "4xjn1Jc1PBVU"
      },
      "execution_count": 91,
      "outputs": []
    },
    {
      "cell_type": "code",
      "source": [
        "ratings_by_usersid_df.tail()"
      ],
      "metadata": {
        "id": "JgWc9ixGNDrS"
      },
      "execution_count": null,
      "outputs": []
    },
    {
      "cell_type": "code",
      "source": [
        "sns.set()\n",
        "plt.scatter(ratings_by_usersid_df['User-ID'],ratings_by_usersid_df['Book-Rating'], s=50, c='blue')\n",
        "plt.title('Numerber of Ratings given by each User')\n",
        "plt.xlabel('User ID')\n",
        "plt.ylabel('Numerber of Ratings')\n",
        "plt.show"
      ],
      "metadata": {
        "id": "5qA6lC63LBCA"
      },
      "execution_count": null,
      "outputs": []
    },
    {
      "cell_type": "code",
      "source": [
        "temp_df =ratings_with_books.groupby('User-ID').count()['Book-Rating'] > 200\n",
        "expirenced_users = temp_df[temp_df].index"
      ],
      "metadata": {
        "id": "vv1xAlYuPiCT"
      },
      "execution_count": 112,
      "outputs": []
    },
    {
      "cell_type": "code",
      "source": [
        "filtered_rating = ratings_with_books[ratings_with_books['User-ID'].isin(expirenced_users)]"
      ],
      "metadata": {
        "id": "HXv6TsZIQPpt"
      },
      "execution_count": 113,
      "outputs": []
    },
    {
      "cell_type": "code",
      "source": [
        "filtered_rating"
      ],
      "metadata": {
        "id": "NkSA8InqMdw5"
      },
      "execution_count": null,
      "outputs": []
    },
    {
      "cell_type": "code",
      "source": [
        "temp_df = filtered_rating.groupby('Book-Title').count()['Book-Rating']>=50\n",
        "famous_books = temp_df[temp_df].index"
      ],
      "metadata": {
        "id": "wXFzP3iSQYU0"
      },
      "execution_count": 115,
      "outputs": []
    },
    {
      "cell_type": "code",
      "source": [
        "famous_books"
      ],
      "metadata": {
        "id": "tZ6kX0YNUL9t"
      },
      "execution_count": null,
      "outputs": []
    },
    {
      "cell_type": "code",
      "source": [
        "final_ratings = filtered_rating[filtered_rating['Book-Title'].isin(famous_books)]"
      ],
      "metadata": {
        "id": "L_n9NeGkUPHA"
      },
      "execution_count": 117,
      "outputs": []
    },
    {
      "cell_type": "code",
      "source": [
        "final_ratings"
      ],
      "metadata": {
        "id": "TSLql2P9Ubks"
      },
      "execution_count": null,
      "outputs": []
    },
    {
      "cell_type": "code",
      "source": [
        "pivot_df = final_ratings.pivot_table(index='Book-Title',columns='User-ID',values='Book-Rating')"
      ],
      "metadata": {
        "id": "vvSHf1nzUd1T"
      },
      "execution_count": 119,
      "outputs": []
    },
    {
      "cell_type": "code",
      "source": [
        "pivot_df.fillna(0, inplace=True)"
      ],
      "metadata": {
        "id": "noDjHt5BUzxv"
      },
      "execution_count": 121,
      "outputs": []
    },
    {
      "cell_type": "code",
      "source": [
        "pivot_df"
      ],
      "metadata": {
        "id": "0Ebf1XFUU13O"
      },
      "execution_count": null,
      "outputs": []
    },
    {
      "cell_type": "code",
      "source": [
        "from sklearn.metrics.pairwise import cosine_similarity"
      ],
      "metadata": {
        "id": "9YoRw3kMU-FN"
      },
      "execution_count": 123,
      "outputs": []
    },
    {
      "cell_type": "code",
      "source": [
        "similarity_scores = cosine_similarity(pivot_df)"
      ],
      "metadata": {
        "id": "_Zp8aRFMVNXd"
      },
      "execution_count": 124,
      "outputs": []
    },
    {
      "cell_type": "code",
      "source": [
        "similarity_scores.shape"
      ],
      "metadata": {
        "id": "BrO4JVtbVZDe"
      },
      "execution_count": null,
      "outputs": []
    },
    {
      "cell_type": "code",
      "source": [
        "def recommend_book(book_name):\n",
        "  book_index = np.where(pivot_df.index==book_name)[0][0]\n",
        "  similar_books = sorted(list(enumerate(similarity_scores[book_index])), key = lambda x:x[1], reverse=True)[1:6]\n",
        "  suggestions = []\n",
        "  for i in similar_books:\n",
        "        item = []\n",
        "        temp_df = books[books['Book-Title'] == pivot_df.index[i[0]]]\n",
        "        item.extend(list(temp_df.drop_duplicates('Book-Title')['Book-Title'].values))\n",
        "        item.extend(list(temp_df.drop_duplicates('Book-Title')['Book-Author'].values))\n",
        "        item.extend(list(temp_df.drop_duplicates('Book-Title')['Image-URL-M'].values))\n",
        "\n",
        "        suggestions.append(item)\n",
        "  return suggestions"
      ],
      "metadata": {
        "id": "A6AnxcqIVcU4"
      },
      "execution_count": 126,
      "outputs": []
    },
    {
      "cell_type": "code",
      "source": [
        "recommend_book('Year of Wonders')"
      ],
      "metadata": {
        "id": "ZoSgMvhwVnfU"
      },
      "execution_count": null,
      "outputs": []
    },
    {
      "cell_type": "code",
      "source": [
        "recommend_book('1984')"
      ],
      "metadata": {
        "id": "aRipmiHEVnYj"
      },
      "execution_count": null,
      "outputs": []
    },
    {
      "cell_type": "code",
      "source": [],
      "metadata": {
        "id": "ar1c6aONVnVR"
      },
      "execution_count": null,
      "outputs": []
    }
  ]
}